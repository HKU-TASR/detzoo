{
 "cells": [
  {
   "cell_type": "code",
   "execution_count": 1,
   "metadata": {},
   "outputs": [
    {
     "name": "stderr",
     "output_type": "stream",
     "text": [
      "/Users/guolianglu/miniconda3/envs/detzoo/lib/python3.10/site-packages/tqdm/auto.py:21: TqdmWarning: IProgress not found. Please update jupyter and ipywidgets. See https://ipywidgets.readthedocs.io/en/stable/user_install.html\n",
      "  from .autonotebook import tqdm as notebook_tqdm\n"
     ]
    },
    {
     "name": "stdout",
     "output_type": "stream",
     "text": [
      "loading annotations into memory...\n",
      "Done (t=5.75s)\n",
      "creating index...\n",
      "index created!\n",
      "loading annotations into memory...\n",
      "Done (t=6.19s)\n",
      "creating index...\n",
      "index created!\n"
     ]
    }
   ],
   "source": [
    "import sys\n",
    "import os\n",
    "import torch\n",
    "import numpy as np\n",
    "from detzoo.datasets import VOCDataset, COCODataset\n",
    "from detzoo.models import YOLOv1\n",
    "from detzoo.utils import *\n",
    "from matplotlib import pyplot as plt\n",
    "import torchvision.transforms as T\n",
    "\n",
    "voc_dataset = VOCDataset(root='../../data/VOC', \n",
    "                        year='2007',\n",
    "                        image_set='train')\n",
    "coco_dataset = COCODataset(root='../../data/COCO', \n",
    "                           year='2017',\n",
    "                           image_set='train')"
   ]
  },
  {
   "cell_type": "code",
   "execution_count": 4,
   "metadata": {},
   "outputs": [
    {
     "name": "stdout",
     "output_type": "stream",
     "text": [
      "<class 'torch.Tensor'> <class 'dict'>\n",
      "torch.Size([1, 3, 448, 448])\n",
      "tensor([[[  1.1947,  43.9040, 407.3813, 447.1040]]])\n",
      "tensor([[1.]])\n",
      "tensor([[7]])\n"
     ]
    }
   ],
   "source": [
    "data_loader = torch.utils.data.DataLoader(voc_dataset, batch_size=1, shuffle=True)\n",
    "for images, targets in data_loader:\n",
    "    print(type(images), type(targets))\n",
    "    print(images.shape)\n",
    "    print(targets['boxes'])\n",
    "    print(targets['confidences'])\n",
    "    print(targets['labels'])\n",
    "    break"
   ]
  },
  {
   "cell_type": "code",
   "execution_count": null,
   "metadata": {},
   "outputs": [],
   "source": [
    "try:\n",
    "    data_iter1\n",
    "except NameError:\n",
    "    data_iter1 = iter(voc_dataset)\n",
    "\n",
    "img1, target1 = next(data_iter1)\n",
    "\n",
    "plot_image_and_boxes(img1, target1, voc_dataset.classes)"
   ]
  },
  {
   "cell_type": "code",
   "execution_count": null,
   "metadata": {},
   "outputs": [],
   "source": [
    "try:\n",
    "    data_iter2\n",
    "except NameError:\n",
    "    data_iter2 = iter(coco_dataset)\n",
    "\n",
    "img2, target2 = next(data_iter2)\n",
    "\n",
    "plot_image_and_boxes(img2, target2, coco_dataset.classes)"
   ]
  }
 ],
 "metadata": {
  "kernelspec": {
   "display_name": "detzoo",
   "language": "python",
   "name": "python3"
  },
  "language_info": {
   "codemirror_mode": {
    "name": "ipython",
    "version": 3
   },
   "file_extension": ".py",
   "mimetype": "text/x-python",
   "name": "python",
   "nbconvert_exporter": "python",
   "pygments_lexer": "ipython3",
   "version": "3.10.14"
  }
 },
 "nbformat": 4,
 "nbformat_minor": 2
}
