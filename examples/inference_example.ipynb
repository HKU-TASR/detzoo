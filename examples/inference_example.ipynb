{
 "cells": [
  {
   "cell_type": "code",
   "execution_count": null,
   "metadata": {},
   "outputs": [],
   "source": [
    "from detzoo import FasterRCNN"
   ]
  },
  {
   "cell_type": "code",
   "execution_count": null,
   "metadata": {},
   "outputs": [],
   "source": [
    "detector = FasterRCNN(backbone=\"vgg16\", classes=[\"cat\", \"dog\", ...])\n",
    "detector.set_inference_config(xx, yy, zz)\n",
    "detector.load_state_dict(torch.load(\"path.pt\"))\n",
    "detector.eval()"
   ]
  },
  {
   "cell_type": "code",
   "execution_count": null,
   "metadata": {},
   "outputs": [],
   "source": [
    "img = ...\n",
    "detected_objects = detector.run(img) <--- list of objects with format: [(class_name, confidence, x_min, y_min, width, height), ...]"
   ]
  }
 ],
 "metadata": {
  "language_info": {
   "name": "python"
  }
 },
 "nbformat": 4,
 "nbformat_minor": 2
}
